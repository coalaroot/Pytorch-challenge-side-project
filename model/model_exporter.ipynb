{
 "cells": [
  {
   "cell_type": "code",
   "execution_count": 1,
   "metadata": {},
   "outputs": [
    {
     "name": "stderr",
     "output_type": "stream",
     "text": [
      "/Users/samuelcahyawijaya/htdocs/python/onnx-tensorflow/onnx_tf/common/__init__.py:87: UserWarning: FrontendHandler.get_outputs_names is deprecated. It will be removed in future release.. Use node.outputs instead.\n",
      "  warnings.warn(message)\n"
     ]
    }
   ],
   "source": [
    "import os\n",
    "import numpy as np\n",
    "\n",
    "import torch.onnx\n",
    "import onnx\n",
    "import warnings\n",
    "from onnx_tf.backend import prepare\n",
    "\n",
    "import tensorflow as tf\n",
    "from tensorflow.python.tools.import_pb_to_tensorboard import import_to_tensorboard\n",
    "from tensorflow.python.platform import gfile\n",
    "from tensorflow.contrib.lite.python.lite import TFLiteConverter\n",
    "\n",
    "import torch\n",
    "import torch.nn as nn\n",
    "import torch.nn.functional as F\n",
    "\n",
    "from PIL import Image"
   ]
  },
  {
   "cell_type": "code",
   "execution_count": 2,
   "metadata": {},
   "outputs": [],
   "source": [
    "label_dict = {\n",
    "    0: 'NINE',\n",
    "    1: 'ZERO',\n",
    "    2: 'SEVEN',\n",
    "    3: 'SIX',\n",
    "    4: 'ONE',\n",
    "    5: 'EIGHT',\n",
    "    6: 'FOUR',\n",
    "    7: 'THREE',\n",
    "    8: 'TWO',\n",
    "    9: 'FIVE', \n",
    "}"
   ]
  },
  {
   "cell_type": "code",
   "execution_count": 3,
   "metadata": {},
   "outputs": [],
   "source": [
    "os.environ[\"ONNX_ML\"] = \"1\"\n",
    "warnings.filterwarnings('ignore') # Ignore all the warning messages in this tutorial"
   ]
  },
  {
   "cell_type": "code",
   "execution_count": 4,
   "metadata": {},
   "outputs": [
    {
     "data": {
      "image/png": "[encoded data removed]",
      "text/plain": [
       "<PIL.Image.Image image mode=L size=64x64 at 0x12E8874A8>"
      ]
     },
     "metadata": {},
     "output_type": "display_data"
    }
   ],
   "source": [
    "img = Image.open('test.jpg').convert('L')\n",
    "display(img) # show the image"
   ]
  },
  {
   "cell_type": "markdown",
   "metadata": {},
   "source": [
    "### Export from PyTorch"
   ]
  },
  {
   "cell_type": "code",
   "execution_count": 5,
   "metadata": {},
   "outputs": [],
   "source": [
    "# define the CNN architecture without Dropout layer\n",
    "class Net(nn.Module):\n",
    "    def __init__(self):\n",
    "        super(Net, self).__init__()\n",
    "        \n",
    "        self.conv1_1 = nn.Conv2d(1, 8, 3, padding=1)      \n",
    "        self.conv1_2 = nn.Conv2d(8, 16, 3, padding=1)      \n",
    "        self.conv1_3 = nn.Conv2d(16, 32, 3, padding=1)\n",
    "        \n",
    "        self.pool1 = nn.MaxPool2d(2) \n",
    "        \n",
    "        self.conv2_1 = nn.Conv2d(32, 40, 3, padding=1)      \n",
    "        self.conv2_2 = nn.Conv2d(40, 48, 3, padding=1)      \n",
    "        self.conv2_3 = nn.Conv2d(48, 64, 3, padding=1)\n",
    "\n",
    "        self.pool2 = nn.MaxPool2d(2)\n",
    "        \n",
    "        self.conv3_1 = nn.Conv2d(64, 72, 3, padding=1)      \n",
    "        self.conv3_2 = nn.Conv2d(72, 80, 3, padding=1)      \n",
    "        self.conv3_3 = nn.Conv2d(80, 96, 3, padding=1)\n",
    "        \n",
    "        self.pool3 = nn.MaxPool2d(2)\n",
    "        \n",
    "        self.conv4_1 = nn.Conv2d(96, 128, 3, padding=1)      \n",
    "        self.conv4_2 = nn.Conv2d(128, 192, 3, padding=1)\n",
    "        self.conv4_3 = nn.Conv2d(192, 256, 3, padding=1)\n",
    "        \n",
    "        self.fc1 = nn.Linear(256, 1024)\n",
    "        self.fc2 = nn.Linear(1024, 10)\n",
    "        \n",
    "        for m in self.modules():\n",
    "            if isinstance(m, nn.Conv2d):\n",
    "                nn.init.kaiming_normal_(m.weight, mode='fan_out', nonlinearity='relu')\n",
    "            elif isinstance(m, nn.Linear):\n",
    "                nn.init.kaiming_normal_(m.weight, mode='fan_in', nonlinearity='relu')\n",
    "\n",
    "    def forward(self, x):\n",
    "        # 64x64x1 => 32x32x8\n",
    "        x = F.relu(self.conv1_1(x))\n",
    "        x = F.relu(self.conv1_2(x))\n",
    "        x = F.relu(self.conv1_3(x))\n",
    "        x = F.relu(self.pool1(x))\n",
    "        \n",
    "        # 32x32x8 => 16x16x16\n",
    "        x = F.relu(self.conv2_1(x))\n",
    "        x = F.relu(self.conv2_2(x))\n",
    "        x = F.relu(self.conv2_3(x))\n",
    "        x = F.relu(self.pool2(x))\n",
    "        \n",
    "        # 16x16x16 => 8x8x32\n",
    "        x = F.relu(self.conv3_1(x))\n",
    "        x = F.relu(self.conv3_2(x))\n",
    "        x = F.relu(self.conv3_3(x))\n",
    "        x = F.relu(self.pool3(x))\n",
    "        \n",
    "        # 8x8x32 => 8x8x256\n",
    "        x = F.relu(self.conv4_1(x))\n",
    "        x = F.relu(self.conv4_2(x))\n",
    "        x = F.relu(self.conv4_3(x))\n",
    "\n",
    "        # Reduce Mean & Linear\n",
    "        x = torch.mean(torch.mean(x, dim=-1), dim=-1)\n",
    "        x = F.relu(self.fc1(x))\n",
    "        x = self.fc2(x)\n",
    "\n",
    "        return x"
   ]
  },
  {
   "cell_type": "code",
   "execution_count": 6,
   "metadata": {},
   "outputs": [
    {
     "data": {
      "text/plain": [
       "Net(\n",
       "  (conv1_1): Conv2d(1, 8, kernel_size=(3, 3), stride=(1, 1), padding=(1, 1))\n",
       "  (conv1_2): Conv2d(8, 16, kernel_size=(3, 3), stride=(1, 1), padding=(1, 1))\n",
       "  (conv1_3): Conv2d(16, 32, kernel_size=(3, 3), stride=(1, 1), padding=(1, 1))\n",
       "  (pool1): MaxPool2d(kernel_size=2, stride=2, padding=0, dilation=1, ceil_mode=False)\n",
       "  (conv2_1): Conv2d(32, 40, kernel_size=(3, 3), stride=(1, 1), padding=(1, 1))\n",
       "  (conv2_2): Conv2d(40, 48, kernel_size=(3, 3), stride=(1, 1), padding=(1, 1))\n",
       "  (conv2_3): Conv2d(48, 64, kernel_size=(3, 3), stride=(1, 1), padding=(1, 1))\n",
       "  (pool2): MaxPool2d(kernel_size=2, stride=2, padding=0, dilation=1, ceil_mode=False)\n",
       "  (conv3_1): Conv2d(64, 72, kernel_size=(3, 3), stride=(1, 1), padding=(1, 1))\n",
       "  (conv3_2): Conv2d(72, 80, kernel_size=(3, 3), stride=(1, 1), padding=(1, 1))\n",
       "  (conv3_3): Conv2d(80, 96, kernel_size=(3, 3), stride=(1, 1), padding=(1, 1))\n",
       "  (pool3): MaxPool2d(kernel_size=2, stride=2, padding=0, dilation=1, ceil_mode=False)\n",
       "  (conv4_1): Conv2d(96, 128, kernel_size=(3, 3), stride=(1, 1), padding=(1, 1))\n",
       "  (conv4_2): Conv2d(128, 192, kernel_size=(3, 3), stride=(1, 1), padding=(1, 1))\n",
       "  (conv4_3): Conv2d(192, 256, kernel_size=(3, 3), stride=(1, 1), padding=(1, 1))\n",
       "  (fc1): Linear(in_features=256, out_features=1024, bias=True)\n",
       "  (fc2): Linear(in_features=1024, out_features=10, bias=True)\n",
       ")"
      ]
     },
     "execution_count": 6,
     "metadata": {},
     "output_type": "execute_result"
    }
   ],
   "source": [
    "# Load model\n",
    "model = Net()\n",
    "model.load_state_dict(torch.load('./model_sl_3968.pt', map_location=lambda storage, location: storage))\n",
    "model.eval()"
   ]
  },
  {
   "cell_type": "code",
   "execution_count": 7,
   "metadata": {},
   "outputs": [
    {
     "data": {
      "text/plain": [
       "(tensor([[ -3.2384,  32.9433,  -6.1564, -18.4737,  -2.4728,   0.2746,  -1.5060,\n",
       "          -14.4440, -26.7159,  -7.6219]], grad_fn=<ThAddmmBackward>), 'ZERO')"
      ]
     },
     "execution_count": 7,
     "metadata": {},
     "output_type": "execute_result"
    }
   ],
   "source": [
    "# Test predict\n",
    "x = torch.from_numpy(np.expand_dims(np.expand_dims(np.asarray(img, dtype=np.float32), axis=0), axis=0))\n",
    "y = model(x)\n",
    "\n",
    "y_idx = torch.argmax(y)\n",
    "y, label_dict[int(y_idx)]"
   ]
  },
  {
   "cell_type": "code",
   "execution_count": 8,
   "metadata": {},
   "outputs": [],
   "source": [
    "# Prepare dummy tensor for defining input size\n",
    "dummy_input = torch.randn(1, 1, 64, 64)\n",
    "\n",
    "# Invoke export\n",
    "torch.onnx.export(model, dummy_input, \"sign_lang_net.onnx\")"
   ]
  },
  {
   "cell_type": "markdown",
   "metadata": {},
   "source": [
    "### Import to Tensorflow"
   ]
  },
  {
   "cell_type": "code",
   "execution_count": 9,
   "metadata": {},
   "outputs": [],
   "source": [
    "model = onnx.load('sign_lang_net.onnx') # Load the ONNX file\n",
    "tf_rep = prepare(model) # Import the ONNX model to Tensorflow"
   ]
  },
  {
   "cell_type": "code",
   "execution_count": 10,
   "metadata": {},
   "outputs": [
    {
     "name": "stdout",
     "output_type": "stream",
     "text": [
      "['0']\n",
      "-----\n",
      "['63']\n",
      "-----\n",
      "{'1': <tf.Tensor 'Const:0' shape=(8, 1, 3, 3) dtype=float32>, '2': <tf.Tensor 'Const_1:0' shape=(8,) dtype=float32>, '3': <tf.Tensor 'Const_2:0' shape=(16, 8, 3, 3) dtype=float32>, '4': <tf.Tensor 'Const_3:0' shape=(16,) dtype=float32>, '5': <tf.Tensor 'Const_4:0' shape=(32, 16, 3, 3) dtype=float32>, '6': <tf.Tensor 'Const_5:0' shape=(32,) dtype=float32>, '7': <tf.Tensor 'Const_6:0' shape=(40, 32, 3, 3) dtype=float32>, '8': <tf.Tensor 'Const_7:0' shape=(40,) dtype=float32>, '9': <tf.Tensor 'Const_8:0' shape=(48, 40, 3, 3) dtype=float32>, '10': <tf.Tensor 'Const_9:0' shape=(48,) dtype=float32>, '11': <tf.Tensor 'Const_10:0' shape=(64, 48, 3, 3) dtype=float32>, '12': <tf.Tensor 'Const_11:0' shape=(64,) dtype=float32>, '13': <tf.Tensor 'Const_12:0' shape=(72, 64, 3, 3) dtype=float32>, '14': <tf.Tensor 'Const_13:0' shape=(72,) dtype=float32>, '15': <tf.Tensor 'Const_14:0' shape=(80, 72, 3, 3) dtype=float32>, '16': <tf.Tensor 'Const_15:0' shape=(80,) dtype=float32>, '17': <tf.Tensor 'Const_16:0' shape=(96, 80, 3, 3) dtype=float32>, '18': <tf.Tensor 'Const_17:0' shape=(96,) dtype=float32>, '19': <tf.Tensor 'Const_18:0' shape=(128, 96, 3, 3) dtype=float32>, '20': <tf.Tensor 'Const_19:0' shape=(128,) dtype=float32>, '21': <tf.Tensor 'Const_20:0' shape=(192, 128, 3, 3) dtype=float32>, '22': <tf.Tensor 'Const_21:0' shape=(192,) dtype=float32>, '23': <tf.Tensor 'Const_22:0' shape=(256, 192, 3, 3) dtype=float32>, '24': <tf.Tensor 'Const_23:0' shape=(256,) dtype=float32>, '25': <tf.Tensor 'Const_24:0' shape=(1024, 256) dtype=float32>, '26': <tf.Tensor 'Const_25:0' shape=(1024,) dtype=float32>, '27': <tf.Tensor 'Const_26:0' shape=(10, 1024) dtype=float32>, '28': <tf.Tensor 'Const_27:0' shape=(10,) dtype=float32>, '0': <tf.Tensor '0:0' shape=(1, 1, 64, 64) dtype=float32>, '29': <tf.Tensor 'transpose_2:0' shape=(1, 8, 64, 64) dtype=float32>, '30': <tf.Tensor 'Relu:0' shape=(1, 8, 64, 64) dtype=float32>, '31': <tf.Tensor 'transpose_5:0' shape=(1, 16, 64, 64) dtype=float32>, '32': <tf.Tensor 'Relu_1:0' shape=(1, 16, 64, 64) dtype=float32>, '33': <tf.Tensor 'transpose_8:0' shape=(1, 32, 64, 64) dtype=float32>, '34': <tf.Tensor 'Relu_2:0' shape=(1, 32, 64, 64) dtype=float32>, '35': <tf.Tensor 'transpose_10:0' shape=(1, 32, 32, 32) dtype=float32>, '36': <tf.Tensor 'Relu_3:0' shape=(1, 32, 32, 32) dtype=float32>, '37': <tf.Tensor 'transpose_13:0' shape=(1, 40, 32, 32) dtype=float32>, '38': <tf.Tensor 'Relu_4:0' shape=(1, 40, 32, 32) dtype=float32>, '39': <tf.Tensor 'transpose_16:0' shape=(1, 48, 32, 32) dtype=float32>, '40': <tf.Tensor 'Relu_5:0' shape=(1, 48, 32, 32) dtype=float32>, '41': <tf.Tensor 'transpose_19:0' shape=(1, 64, 32, 32) dtype=float32>, '42': <tf.Tensor 'Relu_6:0' shape=(1, 64, 32, 32) dtype=float32>, '43': <tf.Tensor 'transpose_21:0' shape=(1, 64, 16, 16) dtype=float32>, '44': <tf.Tensor 'Relu_7:0' shape=(1, 64, 16, 16) dtype=float32>, '45': <tf.Tensor 'transpose_24:0' shape=(1, 72, 16, 16) dtype=float32>, '46': <tf.Tensor 'Relu_8:0' shape=(1, 72, 16, 16) dtype=float32>, '47': <tf.Tensor 'transpose_27:0' shape=(1, 80, 16, 16) dtype=float32>, '48': <tf.Tensor 'Relu_9:0' shape=(1, 80, 16, 16) dtype=float32>, '49': <tf.Tensor 'transpose_30:0' shape=(1, 96, 16, 16) dtype=float32>, '50': <tf.Tensor 'Relu_10:0' shape=(1, 96, 16, 16) dtype=float32>, '51': <tf.Tensor 'transpose_32:0' shape=(1, 96, 8, 8) dtype=float32>, '52': <tf.Tensor 'Relu_11:0' shape=(1, 96, 8, 8) dtype=float32>, '53': <tf.Tensor 'transpose_35:0' shape=(1, 128, 8, 8) dtype=float32>, '54': <tf.Tensor 'Relu_12:0' shape=(1, 128, 8, 8) dtype=float32>, '55': <tf.Tensor 'transpose_38:0' shape=(1, 192, 8, 8) dtype=float32>, '56': <tf.Tensor 'Relu_13:0' shape=(1, 192, 8, 8) dtype=float32>, '57': <tf.Tensor 'transpose_41:0' shape=(1, 256, 8, 8) dtype=float32>, '58': <tf.Tensor 'Relu_14:0' shape=(1, 256, 8, 8) dtype=float32>, '59': <tf.Tensor 'Mean:0' shape=(1, 256, 8) dtype=float32>, '60': <tf.Tensor 'Mean_1:0' shape=(1, 256) dtype=float32>, '61': <tf.Tensor 'add_12:0' shape=(1, 1024) dtype=float32>, '62': <tf.Tensor 'Relu_15:0' shape=(1, 1024) dtype=float32>, '63': <tf.Tensor 'add_13:0' shape=(1, 10) dtype=float32>}\n"
     ]
    }
   ],
   "source": [
    "print(tf_rep.inputs) # Input nodes to the model\n",
    "print('-----')\n",
    "print(tf_rep.outputs) # Output nodes from the model\n",
    "print('-----')\n",
    "print(tf_rep.tensor_dict) # All nodes in the model"
   ]
  },
  {
   "cell_type": "code",
   "execution_count": 11,
   "metadata": {},
   "outputs": [
    {
     "data": {
      "text/plain": [
       "Outputs(_0=array([[-0.02238697, -0.29960835, -0.03953697,  0.13984193, -0.0435295 ,\n",
       "         0.07639679, -0.10470795, -0.18059273, -0.0128672 , -0.29820734]],\n",
       "      dtype=float32))"
      ]
     },
     "execution_count": 11,
     "metadata": {},
     "output_type": "execute_result"
    }
   ],
   "source": [
    "tf_rep.run(np.random.randn(1,1,64,64))"
   ]
  },
  {
   "cell_type": "code",
   "execution_count": 12,
   "metadata": {},
   "outputs": [
    {
     "data": {
      "text/plain": [
       "(Outputs(_0=array([[ -3.238375  ,  32.94328   ,  -6.1563983 , -18.473707  ,\n",
       "          -2.4727979 ,   0.27463698,  -1.5059704 , -14.4439945 ,\n",
       "         -26.715906  ,  -7.621884  ]], dtype=float32)), 'ZERO')"
      ]
     },
     "execution_count": 12,
     "metadata": {},
     "output_type": "execute_result"
    }
   ],
   "source": [
    "x = np.expand_dims(np.expand_dims(np.asarray(img, dtype=np.float32), axis=0), axis=0)\n",
    "y = tf_rep.run(x)\n",
    "\n",
    "y, label_dict[np.argmax(y)]"
   ]
  },
  {
   "cell_type": "code",
   "execution_count": 13,
   "metadata": {},
   "outputs": [
    {
     "name": "stdout",
     "output_type": "stream",
     "text": [
      "WARNING:tensorflow:From /usr/local/Cellar/python3/3.6.1/Frameworks/Python.framework/Versions/3.6/lib/python3.6/site-packages/tensorflow/python/tools/import_pb_to_tensorboard.py:56: FastGFile.__init__ (from tensorflow.python.platform.gfile) is deprecated and will be removed in a future version.\n",
      "Instructions for updating:\n",
      "Use tf.gfile.GFile.\n",
      "Model Imported. Visualize by running: tensorboard --logdir=sl_log\n"
     ]
    }
   ],
   "source": [
    "tf_rep.export_graph(\"sign_lang_net.pb\")\n",
    "import_to_tensorboard(\"sign_lang_net.pb\", \"sl_log\")"
   ]
  },
  {
   "cell_type": "markdown",
   "metadata": {},
   "source": [
    "### Load Tensorflow Graph"
   ]
  },
  {
   "cell_type": "code",
   "execution_count": 14,
   "metadata": {},
   "outputs": [],
   "source": [
    "tf.reset_default_graph()"
   ]
  },
  {
   "cell_type": "code",
   "execution_count": 15,
   "metadata": {},
   "outputs": [],
   "source": [
    "in_tensor = 'import/0:0'\n",
    "out_tensor = 'import/add_13:0'"
   ]
  },
  {
   "cell_type": "code",
   "execution_count": 16,
   "metadata": {},
   "outputs": [
    {
     "name": "stdout",
     "output_type": "stream",
     "text": [
      "[[ -3.238375    32.94328     -6.1563983  -18.473707    -2.4727979\n",
      "    0.27463698  -1.5059704  -14.4439945  -26.715906    -7.621884  ]] ZERO\n"
     ]
    }
   ],
   "source": [
    "with gfile.FastGFile(\"sign_lang_net.pb\", 'rb') as f:\n",
    "    graph_def = tf.GraphDef()\n",
    "    graph_def.ParseFromString(f.read())\n",
    "    with tf.Session() as sess:\n",
    "        sess.graph.as_default()\n",
    "        tf.import_graph_def(graph_def)\n",
    "        tf.global_variables_initializer().run()\n",
    "        sess.run([tf.global_variables_initializer(), tf.local_variables_initializer()])\n",
    "        \n",
    "        feed_dict = dict([(in_tensor, x)])\n",
    "        y = sess.run(out_tensor, feed_dict=feed_dict)\n",
    "        \n",
    "        print(y, label_dict[np.argmax(y)])"
   ]
  },
  {
   "cell_type": "markdown",
   "metadata": {},
   "source": [
    "# Move to Tensoflow Lite Model"
   ]
  },
  {
   "cell_type": "code",
   "execution_count": 17,
   "metadata": {},
   "outputs": [],
   "source": [
    "in_tensor = '0'\n",
    "out_tensor = 'add_13'"
   ]
  },
  {
   "cell_type": "code",
   "execution_count": 18,
   "metadata": {},
   "outputs": [
    {
     "data": {
      "text/plain": [
       "5117180"
      ]
     },
     "execution_count": 18,
     "metadata": {},
     "output_type": "execute_result"
    }
   ],
   "source": [
    "graph_def_file = \"sign_lang_net.pb\"\n",
    "input_arrays = [in_tensor]\n",
    "output_arrays = [out_tensor]\n",
    "\n",
    "converter = TFLiteConverter.from_frozen_graph(graph_def_file, input_arrays, output_arrays)\n",
    "tflite_model = converter.convert()\n",
    "\n",
    "open(\"sign_lang_net.tflite\", \"wb\").write(tflite_model)"
   ]
  },
  {
   "cell_type": "code",
   "execution_count": null,
   "metadata": {},
   "outputs": [],
   "source": []
  }
 ],
 "metadata": {
  "kernelspec": {
   "display_name": "Python 3",
   "language": "python",
   "name": "python3"
  },
  "language_info": {
   "codemirror_mode": {
    "name": "ipython",
    "version": 3
   },
   "file_extension": ".py",
   "mimetype": "text/x-python",
   "name": "python",
   "nbconvert_exporter": "python",
   "pygments_lexer": "ipython3",
   "version": "3.6.1"
  }
 },
 "nbformat": 4,
 "nbformat_minor": 2
}
